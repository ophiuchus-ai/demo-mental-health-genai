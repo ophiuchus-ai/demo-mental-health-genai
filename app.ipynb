{
 "cells": [
  {
   "cell_type": "code",
   "execution_count": 71,
   "id": "6b57ced9-62ee-44a0-a895-6ed288f970ff",
   "metadata": {},
   "outputs": [
    {
     "name": "stdout",
     "output_type": "stream",
     "text": [
      "Running on local URL:  http://127.0.0.1:7899\n",
      "\n",
      "To create a public link, set `share=True` in `launch()`.\n"
     ]
    },
    {
     "data": {
      "text/html": [
       "<div><iframe src=\"http://127.0.0.1:7899/\" width=\"100%\" height=\"500\" allow=\"autoplay; camera; microphone; clipboard-read; clipboard-write;\" frameborder=\"0\" allowfullscreen></iframe></div>"
      ],
      "text/plain": [
       "<IPython.core.display.HTML object>"
      ]
     },
     "metadata": {},
     "output_type": "display_data"
    },
    {
     "name": "stdout",
     "output_type": "stream",
     "text": [
      "desc='A 42 year old woman. They like cats, cooking. They do not like outside. They have the following symptoms: Anxiety.'\n",
      "prompt='Illustrate an inspirational message to help a person with their mental health. The person is described as follows:\\n\\nA 42 year old woman. They like cats, cooking. They do not like outside. They have the following symptoms: Anxiety.\\n\\nThe image should align with the following message:\\n\\nDear friend, I understand that anxiety can sometimes feel overwhelming, but remember, you are stronger than you think. Just like cats have their own safe spaces, create a sanctuary within yourself where you can find peace. Embrace the comforting art of cooking, allowing it to ignite your passion and bring you joy. Though the outside may seem daunting, know that within your soul lies the power to conquer any fear. Be kind to yourself, take small steps, and remember that you are capable of remarkable things.'\n"
     ]
    }
   ],
   "source": [
    "import numpy as np\n",
    "import gradio as gr\n",
    "import requests\n",
    "from PIL import Image\n",
    "from openai import OpenAI\n",
    "\n",
    "\n",
    "def run_demo():\n",
    "    \"\"\"Setup the app interface and launch it.\"\"\"\n",
    "    with gr.Blocks() as app:\n",
    "\n",
    "        gr.Markdown('# Mental Health Nudging with Generative AI Demo')\n",
    "        with gr.Row():\n",
    "\n",
    "            # input features\n",
    "            with gr.Column(scale=1):\n",
    "\n",
    "                # demographics\n",
    "                gender = gr.Radio(label='Gender', choices=['Male', 'Female', 'Non-Binary'])\n",
    "                age = gr.Slider(label='Age', minimum=18, maximum=80, step=1)\n",
    "\n",
    "                # symptoms\n",
    "                symptoms = gr.CheckboxGroup(label='Symptoms',\n",
    "                                            choices=['Anxiety', 'Depression', 'Tiredness', 'Apathy'])\n",
    "\n",
    "                # interests\n",
    "                likes = gr.Textbox(label='Liked Activities',\n",
    "                                   placeholder='Comma-separated list of likes...')\n",
    "                dislikes = gr.Textbox(label='Disliked Activities',\n",
    "                                      placeholder='Comma-separated list of dislikes...')\n",
    "\n",
    "                # submit button\n",
    "                submit_button = gr.Button('Generate Nudge')\n",
    "\n",
    "            # resulting nudge\n",
    "            with gr.Column(scale=1):\n",
    "                nudge_image = gr.Image(label='Nudge Image')\n",
    "                nudge_message = gr.Textbox(label='Nudge Message')\n",
    "\n",
    "        # submit parameters for nudge generation\n",
    "        inputs = [gender, age, symptoms, likes, dislikes]\n",
    "        outputs = [nudge_image, nudge_message]\n",
    "        submit_button.click(fn=generate, inputs=inputs, outputs=outputs)\n",
    "\n",
    "    # launch the app\n",
    "    gr.close_all()\n",
    "    app.queue(default_concurrency_limit=None)\n",
    "    app.launch()\n",
    "\n",
    "\n",
    "def generate(gender, age, symptoms, likes, dislikes):\n",
    "    \"\"\"Generate nudging image and message for the given person.\"\"\"\n",
    "    # construct description of the person\n",
    "    desc = f'A {age} year old {\"man\" if gender==\"Male\" else \"woman\" if gender==\"Female\" else \"person\"}.'\n",
    "    if likes:\n",
    "        desc += f' They like {likes}.'\n",
    "    if dislikes:\n",
    "        desc += f' They do not like {dislikes}.'\n",
    "    if symptoms:\n",
    "        desc += f' They have the following symptoms: {\", \".join(symptoms)}.'\n",
    "    else:\n",
    "        desc += f' They do not have any symptoms.'\n",
    "\n",
    "    # generate nudge for the person\n",
    "    nudge_message = generate_nudge_message(desc)\n",
    "    nudge_image = generate_nudge_image(desc, nudge_message, random=False)\n",
    "\n",
    "    return nudge_image, nudge_message\n",
    "\n",
    "\n",
    "def generate_nudge_message(desc):\n",
    "    \"\"\"Generate a message for a given person.\"\"\"\n",
    "    print(f'{desc=}')\n",
    "    system_prompt = 'You are a behavioral content writer. You job is to write short '\\\n",
    "                  + 'motivational messages to help people with their mental health. '\\\n",
    "                  + 'Messages should be at most a paprgraph long.'\n",
    "    user_prompt = f'Write a short inspirational message for the person with the following description:\\n\\n{desc}'\n",
    "    messages = [{'role': 'system', 'content': f'{system_prompt}'},\n",
    "                {'role': 'user', 'content': f'{user_prompt}'}]\n",
    "    completion = client.chat.completions.create(messages=messages, model='gpt-3.5-turbo')\n",
    "    nudge_message = completion.choices[0].message.content\n",
    "    return nudge_message\n",
    "\n",
    "\n",
    "def generate_nudge_image(desc, nudge_message, random=True):\n",
    "    \"\"\"Generate an image for a given person and message.\"\"\"\n",
    "    if random:\n",
    "        return Image.fromarray(np.random.randint(0, 255, (100, 100, 3), dtype='uint8'), 'RGB')\n",
    "\n",
    "    prompt = 'Illustrate an inspirational message to help a person with their mental health. '\\\n",
    "           + f'The person is described as follows:\\n\\n{desc}\\n\\n'\\\n",
    "           + f'The image should align with the following message:\\n\\n{nudge_message}'\n",
    "\n",
    "    print(f'{prompt=}')\n",
    "    response = client.images.generate(prompt=prompt, model='dall-e-2', style='vivid', quality='standard')\n",
    "    nudge_image = Image.open(requests.get(response.data[0].url, stream=True).raw)\n",
    "\n",
    "    return nudge_image\n",
    "\n",
    "\n",
    "if __name__ == '__main__':\n",
    "    client = OpenAI()\n",
    "    run_demo()\n"
   ]
  },
  {
   "cell_type": "code",
   "execution_count": null,
   "id": "f5dbbb9e-e706-4789-82d2-0f83b80c65da",
   "metadata": {},
   "outputs": [],
   "source": []
  },
  {
   "cell_type": "code",
   "execution_count": null,
   "id": "6bf1dd4a-b7c5-496d-9a7a-b4a392e185e2",
   "metadata": {},
   "outputs": [],
   "source": []
  },
  {
   "cell_type": "code",
   "execution_count": null,
   "id": "83da6055-6ca8-44ee-a64f-be3b29fc400a",
   "metadata": {},
   "outputs": [],
   "source": []
  },
  {
   "cell_type": "code",
   "execution_count": null,
   "id": "24bbd8a2-600e-4b46-aa58-95caa76c2c88",
   "metadata": {},
   "outputs": [],
   "source": []
  },
  {
   "cell_type": "code",
   "execution_count": null,
   "id": "7205584e-9526-42b0-8f8f-a7c3901831d1",
   "metadata": {},
   "outputs": [],
   "source": []
  },
  {
   "cell_type": "code",
   "execution_count": null,
   "id": "c7cfcc42-b369-465c-902f-e01b4e017fb8",
   "metadata": {},
   "outputs": [],
   "source": []
  },
  {
   "cell_type": "code",
   "execution_count": null,
   "id": "392dbdda-2a94-4671-b935-4a4706d5b5f6",
   "metadata": {},
   "outputs": [],
   "source": []
  },
  {
   "cell_type": "code",
   "execution_count": null,
   "id": "ec9c7160-a50c-4f2d-9450-70586157ca05",
   "metadata": {},
   "outputs": [],
   "source": []
  },
  {
   "cell_type": "code",
   "execution_count": null,
   "id": "08545064-3b81-4216-bce7-df58bdef7aeb",
   "metadata": {},
   "outputs": [],
   "source": []
  },
  {
   "cell_type": "code",
   "execution_count": null,
   "id": "dd6261bf-f3bd-45cb-bcc7-d517d44f7282",
   "metadata": {},
   "outputs": [],
   "source": []
  },
  {
   "cell_type": "code",
   "execution_count": null,
   "id": "1e14977a-be46-4d92-a512-cf19bb39d4af",
   "metadata": {},
   "outputs": [],
   "source": []
  },
  {
   "cell_type": "code",
   "execution_count": null,
   "id": "86b9de25-7c42-4e6f-bbf5-b0cb78fd0331",
   "metadata": {},
   "outputs": [],
   "source": []
  },
  {
   "cell_type": "code",
   "execution_count": null,
   "id": "ec4e3629-07a5-4121-8752-8f6cfe20b561",
   "metadata": {},
   "outputs": [],
   "source": []
  }
 ],
 "metadata": {
  "kernelspec": {
   "display_name": "Python 3 (ipykernel)",
   "language": "python",
   "name": "python3"
  },
  "language_info": {
   "codemirror_mode": {
    "name": "ipython",
    "version": 3
   },
   "file_extension": ".py",
   "mimetype": "text/x-python",
   "name": "python",
   "nbconvert_exporter": "python",
   "pygments_lexer": "ipython3",
   "version": "3.10.12"
  }
 },
 "nbformat": 4,
 "nbformat_minor": 5
}
