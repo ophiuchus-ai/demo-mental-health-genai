{
 "cells": [
  {
   "cell_type": "code",
   "execution_count": 34,
   "id": "6b57ced9-62ee-44a0-a895-6ed288f970ff",
   "metadata": {},
   "outputs": [
    {
     "name": "stdout",
     "output_type": "stream",
     "text": [
      "Running on local URL:  http://127.0.0.1:7891\n",
      "\n",
      "To create a public link, set `share=True` in `launch()`.\n"
     ]
    },
    {
     "data": {
      "text/html": [
       "<div><iframe src=\"http://127.0.0.1:7891/\" width=\"100%\" height=\"500\" allow=\"autoplay; camera; microphone; clipboard-read; clipboard-write;\" frameborder=\"0\" allowfullscreen></iframe></div>"
      ],
      "text/plain": [
       "<IPython.core.display.HTML object>"
      ]
     },
     "metadata": {},
     "output_type": "display_data"
    },
    {
     "name": "stdout",
     "output_type": "stream",
     "text": [
      "desc='A 29 year old non-binary person. They like cats. They have the following mental health symptoms: sadness.'\n",
      "prompt=\"Illustrate one simple, inspirational, fun image to help a person with their mental health. Do not include text. The style is cute and illustrative. The person is a 29 year old white non-binary person. The image should align with the following message:\\n\\nHey there! 🌟 Remember, you're not alone in this journey. Take small steps to brighten your day. Spend time with your furry friend, cuddle up with your cat. Their purrs can bring comfort and joy. Embrace the simple pleasures in life and let them bring a smile to your face. You've got this! 💪❤️\"\n",
      "desc='A 52 year old non-binary person. They like dogs. They have the following mental health symptoms: tiredness.'\n",
      "prompt='Illustrate one simple, inspirational, fun image to help a person with their mental health. Do not include text. The style is cute and illustrative. The person is a 52 year old black non-binary person. The image should align with the following message:\\n\\nHey there! Feeling tired? Remember to take breaks and prioritize self-care. Spend time with your furry friend, dogs are great stress relievers. Take short walks together to boost your energy and mood. You got this! 🐶💪'\n",
      "desc='A 80 year old non-binary person. They like dogs. They have the following mental health symptoms: tiredness.'\n",
      "prompt=\"Illustrate one simple, inspirational, fun image to help a person with their mental health. Do not include text. The style is cute and illustrative. The person is a 80 year old black non-binary person. The image should align with the following message:\\n\\nHey there! Remember, age is just a number. You're never too old to find joy. Spend time with dogs, they're a great source of happiness. If you're feeling tired, try taking short walks or doing gentle exercises. Take care of yourself and keep smiling! 🌟\"\n",
      "desc='A 80 year old non-binary person. They like dogs, Joe Biden. They have the following mental health symptoms: hallucinations, lack of appetite.'\n",
      "prompt=\"Illustrate one simple, inspirational, fun image to help a person with their mental health. Do not include text. The style is cute and illustrative. The person is a 80 year old asian non-binary person. The image should align with the following message:\\n\\nHey there! 🌟 Remember, you're never alone on this journey. Embrace the love and comfort of furry friends like dogs. 🐶 They can bring so much joy and companionship. Try engaging in activities that make you happy, like spending time with your favorite pooch or supporting causes you believe in, like Joe Biden. 🐾 Also, make sure to reach out to a healthcare professional for support with your hallucinations and lack of appetite. They're here to help you feel better. Take care! 💙\"\n",
      "desc='A 28 year old non-binary person. They like dogs, Joe Biden. They have the following mental health symptoms: hallucinations, withdrawal from friends/activities.'\n",
      "prompt=\"Illustrate one simple, inspirational, fun image to help a person with their mental health. Do not include text. The style is cute and illustrative. The person is a 28 year old asian non-binary person. The image should align with the following message:\\n\\nHey there! Just a quick reminder that you're not alone in this journey. When you're feeling overwhelmed by hallucinations, take a moment to ground yourself. Focus on your breath, and remind yourself that these hallucinations aren't real. As for withdrawal, try reaching out to a trusted friend or family member. Connecting with loved ones can make a big difference. You've got this! 🌟\"\n",
      "desc='A 28 year old non-binary person. They like swimming, feminism. They have the following mental health symptoms: inability to concentrate, excessive worrying.'\n",
      "prompt=\"Illustrate one simple, inspirational, fun image to help a person with their mental health. Do not include text. The style is cute and illustrative. The person is a 28 year old black non-binary person. The image should align with the following message:\\n\\nHey there! 🌈 Remember, you have the power to overcome your challenges. When you're feeling overwhelmed, take a dip in the pool and let the water wash away your worries. Embrace the strength of feminism and channel it into empowering yourself. Practice mindfulness to improve concentration. You've got this! 💪\"\n"
     ]
    }
   ],
   "source": [
    "import numpy as np\n",
    "import gradio as gr\n",
    "import requests\n",
    "from PIL import Image\n",
    "from openai import OpenAI\n",
    "\n",
    "\n",
    "def run_demo():\n",
    "    \"\"\"Setup the app interface and launch it.\"\"\"\n",
    "    with gr.Blocks() as app:\n",
    "\n",
    "        gr.Markdown('# Mental Health Nudging with Generative AI Demo')\n",
    "        with gr.Row():\n",
    "\n",
    "            # input features\n",
    "            with gr.Column(scale=1):\n",
    "\n",
    "                # demographics\n",
    "                gender = gr.Radio(label='Gender', choices=['Male', 'Female', 'Non-Binary'])\n",
    "                age = gr.Slider(label='Age', minimum=18, maximum=80, step=1)\n",
    "                race = gr.Radio(label='Race', choices=['white', 'hispanic', 'black', 'asian', 'unspecified'])\n",
    "\n",
    "                # symptoms\n",
    "                #symptoms = gr.CheckboxGroup(label='Diagnosed Mental Health Conditions',\n",
    "                #                            choices=['Depression', 'Generalized anxiety disorder (GAD)', 'Panic disorder', 'Social anxiety disorder', 'Obsessive-compulsive disorder (OCD)', 'Post-traumatic stress disorder (PTSD)'])\n",
    "\n",
    "                # symptoms\n",
    "                symptoms = gr.CheckboxGroup(label='Symptoms',\n",
    "                                            choices=['sadness', 'inability to concentrate', 'excessive worrying', 'extreme mood changes', 'withdrawal from friends/activities', 'tiredness', 'hallucinations', 'addiction', 'lack of appetite', 'increased appetite',])\n",
    "\n",
    "                # interests\n",
    "                likes = gr.Textbox(label='Liked Activities',\n",
    "                                   placeholder='Comma-separated list of likes...')\n",
    "                dislikes = gr.Textbox(label='Disliked Activities',\n",
    "                                      placeholder='Comma-separated list of dislikes...')\n",
    "\n",
    "                # submit button\n",
    "                submit_button = gr.Button('Generate Nudge')\n",
    "\n",
    "            # resulting nudge\n",
    "            with gr.Column(scale=1):\n",
    "                nudge_image = gr.Image(label='Nudge Image')\n",
    "                nudge_message = gr.Textbox(label='Nudge Message')\n",
    "\n",
    "        # submit parameters for nudge generation\n",
    "        inputs = [gender, age, race, symptoms, likes, dislikes]\n",
    "        outputs = [nudge_image, nudge_message]\n",
    "        submit_button.click(fn=generate, inputs=inputs, outputs=outputs)\n",
    "\n",
    "    # launch the app\n",
    "    gr.close_all()\n",
    "    app.queue(default_concurrency_limit=None)\n",
    "    app.launch()\n",
    "\n",
    "\n",
    "def generate(gender, age, race, symptoms, likes, dislikes):\n",
    "    \"\"\"Generate nudging image and message for the given person.\"\"\"\n",
    "    # construct description of the person\n",
    "    if race in ['white', 'hispanic', 'black', 'asian']:\n",
    "        race_desc = f'{race.lower()}'\n",
    "    else:\n",
    "        race_desc = ''\n",
    "    desc = f'A {age} year old {\"man\" if gender==\"Male\" else \"woman\" if gender==\"Female\" else \"non-binary person\"}.'\n",
    "    if likes:\n",
    "        desc += f' They like {likes}.'\n",
    "    if dislikes:\n",
    "        desc += f' They do not like {dislikes}.'\n",
    "    if symptoms:\n",
    "        desc += f' They have the following mental health symptoms: {\", \".join(symptoms)}.'\n",
    "    else:\n",
    "        desc += f' They do not have any mental health symptoms.'\n",
    "\n",
    "    # generate nudge for the person\n",
    "    nudge_message = generate_nudge_message(desc)\n",
    "    nudge_image = generate_nudge_image(age, gender, race_desc, desc, nudge_message, random=False)\n",
    "\n",
    "    return nudge_image, nudge_message\n",
    "\n",
    "\n",
    "def generate_nudge_message(desc):\n",
    "    \"\"\"Generate a message for a given person.\"\"\"\n",
    "    print(f'{desc=}')\n",
    "    system_prompt = '''You are writing motivational text messages to help people with their mental health. \\\n",
    "    Messages should be friendly and positive, but also professional and super short. \\\n",
    "    You are limited on space. \\\n",
    "    Messages should be written at the reading level of an eighth grader. \\\n",
    "    Word choice should be short and simple so everyone can understand. \\\n",
    "    \n",
    "    You will be given some basic information about the person you are addressing. \\\n",
    "    DO NOT reference all of their likes if there are more than two. Be discerning. \\\n",
    "    You should try to use the person's information to give them relevant and actionable tips for improving their mental health symptoms.'''\n",
    "    user_prompt = f'Write a short inspirational message for the person with the following description:\\n\\n{desc}'\n",
    "    messages = [{'role': 'system', 'content': f'{system_prompt}'},\n",
    "                {'role': 'user', 'content': f'{user_prompt}'}]\n",
    "    completion = client.chat.completions.create(messages=messages, model='gpt-3.5-turbo', temperature=.5)\n",
    "    nudge_message = completion.choices[0].message.content\n",
    "    return nudge_message\n",
    "\n",
    "\n",
    "def generate_nudge_image(age, gender, race_desc, desc, nudge_message, random=True):\n",
    "    \"\"\"Generate an image for a given person and message.\"\"\"\n",
    "    if random:\n",
    "        return Image.fromarray(np.random.randint(0, 255, (100, 100, 3), dtype='uint8'), 'RGB')\n",
    "\n",
    "    prompt = 'Illustrate one simple, inspirational, fun image to help a person with their mental health. Do not include text. '\\\n",
    "           + f'The style is cute and illustrative. '\\\n",
    "           + f'The person is a {age} year old {race_desc} {\"man\" if gender==\"Male\" else \"woman\" if gender==\"Female\" else \"non-binary person\"}. '\\\n",
    "           + f'The image should align with the following message:\\n\\n{nudge_message}'\n",
    "\n",
    "    print(f'{prompt=}')\n",
    "    response = client.images.generate(prompt=prompt, model='dall-e-3', style='vivid', quality='standard')\n",
    "    nudge_image = Image.open(requests.get(response.data[0].url, stream=True).raw)\n",
    "\n",
    "    return nudge_image\n",
    "\n",
    "\n",
    "if __name__ == '__main__':\n",
    "    client = OpenAI()\n",
    "    run_demo()\n"
   ]
  },
  {
   "cell_type": "code",
   "execution_count": null,
   "id": "6bf1dd4a-b7c5-496d-9a7a-b4a392e185e2",
   "metadata": {},
   "outputs": [],
   "source": []
  },
  {
   "cell_type": "code",
   "execution_count": null,
   "id": "83da6055-6ca8-44ee-a64f-be3b29fc400a",
   "metadata": {},
   "outputs": [],
   "source": []
  },
  {
   "cell_type": "code",
   "execution_count": null,
   "id": "24bbd8a2-600e-4b46-aa58-95caa76c2c88",
   "metadata": {},
   "outputs": [],
   "source": []
  },
  {
   "cell_type": "code",
   "execution_count": null,
   "id": "7205584e-9526-42b0-8f8f-a7c3901831d1",
   "metadata": {},
   "outputs": [],
   "source": []
  },
  {
   "cell_type": "code",
   "execution_count": null,
   "id": "c7cfcc42-b369-465c-902f-e01b4e017fb8",
   "metadata": {},
   "outputs": [],
   "source": []
  },
  {
   "cell_type": "code",
   "execution_count": null,
   "id": "392dbdda-2a94-4671-b935-4a4706d5b5f6",
   "metadata": {},
   "outputs": [],
   "source": []
  },
  {
   "cell_type": "code",
   "execution_count": null,
   "id": "ec9c7160-a50c-4f2d-9450-70586157ca05",
   "metadata": {},
   "outputs": [],
   "source": []
  },
  {
   "cell_type": "code",
   "execution_count": null,
   "id": "08545064-3b81-4216-bce7-df58bdef7aeb",
   "metadata": {},
   "outputs": [],
   "source": []
  },
  {
   "cell_type": "code",
   "execution_count": null,
   "id": "dd6261bf-f3bd-45cb-bcc7-d517d44f7282",
   "metadata": {},
   "outputs": [],
   "source": []
  },
  {
   "cell_type": "code",
   "execution_count": null,
   "id": "1e14977a-be46-4d92-a512-cf19bb39d4af",
   "metadata": {},
   "outputs": [],
   "source": []
  },
  {
   "cell_type": "code",
   "execution_count": null,
   "id": "86b9de25-7c42-4e6f-bbf5-b0cb78fd0331",
   "metadata": {},
   "outputs": [],
   "source": []
  },
  {
   "cell_type": "code",
   "execution_count": null,
   "id": "ec4e3629-07a5-4121-8752-8f6cfe20b561",
   "metadata": {},
   "outputs": [],
   "source": []
  }
 ],
 "metadata": {
  "kernelspec": {
   "display_name": "Python 3 (ipykernel)",
   "language": "python",
   "name": "python3"
  },
  "language_info": {
   "codemirror_mode": {
    "name": "ipython",
    "version": 3
   },
   "file_extension": ".py",
   "mimetype": "text/x-python",
   "name": "python",
   "nbconvert_exporter": "python",
   "pygments_lexer": "ipython3",
   "version": "3.11.5"
  }
 },
 "nbformat": 4,
 "nbformat_minor": 5
}
